{
 "cells": [
  {
   "cell_type": "code",
   "execution_count": 5,
   "metadata": {},
   "outputs": [
    {
     "name": "stdout",
     "output_type": "stream",
     "text": [
      "The autoreload extension is already loaded. To reload it, use:\n",
      "  %reload_ext autoreload\n"
     ]
    },
    {
     "data": {
      "text/html": [
       "<style>.container { width:100% !important; }</style>"
      ],
      "text/plain": [
       "<IPython.core.display.HTML object>"
      ]
     },
     "metadata": {},
     "output_type": "display_data"
    }
   ],
   "source": [
    "%load_ext autoreload\n",
    "%autoreload 2\n",
    "import warnings\n",
    "warnings.filterwarnings('ignore')\n",
    "from IPython.core.display import display, HTML\n",
    "display(HTML(\"<style>.container { width:100% !important; }</style>\"))\n",
    "\n",
    "import pandas as pd\n",
    "import numpy as np\n",
    "import lightgbm as lgbm\n",
    "import os\n",
    "import matplotlib.pyplot as plt\n",
    "import seaborn as sns\n",
    "import requests\n",
    "import json\n",
    "import time\n",
    "import pickle\n",
    "\n",
    "from tqdm import tqdm\n",
    "\n",
    "from utils import load_json\n",
    "from features import QuarterlyFeatures, BaseCompanyFeatures, FeatureMerger\n",
    "from targets import QuarterlyTarget\n",
    "from models import GroupedOOFModel\n",
    "import pipelines.marketcap\n",
    "from data import SF1Data\n",
    "sns.set()\n",
    "\n",
    "config = load_json(\"config.json\")\n"
   ]
  },
  {
   "cell_type": "code",
   "execution_count": 2,
   "metadata": {},
   "outputs": [],
   "source": [
    "data_loader = SF1Data(config['sf1_data_path'])\n",
    "tickers_df = data_loader.load_tickers(\n",
    "    currency='USD',\n",
    "    scalemarketcap=['4 - Mid', '5 - Large', '6 - Mega'])\n",
    "ticker_list = tickers_df['ticker'].unique().tolist()"
   ]
  },
  {
   "cell_type": "code",
   "execution_count": 6,
   "metadata": {},
   "outputs": [
    {
     "name": "stderr",
     "output_type": "stream",
     "text": [
      "3874it [00:30, 126.44it/s]\n",
      "2400it [00:03, 603.73it/s]\n"
     ]
    },
    {
     "name": "stdout",
     "output_type": "stream",
     "text": [
      "0.38807835112942357\n"
     ]
    }
   ],
   "source": [
    "columns = ['revenue', 'netinc', 'ncf', 'assets', 'ebitda', 'debt', 'fcf',\n",
    "           'gp', 'workingcapital', 'cashneq', 'rnd', 'sgna', 'ncfx',\n",
    "           'divyield', 'currentratio', 'netinccmn']\n",
    "\n",
    "cat_columns = ['sector', 'sicindustry']\n",
    "\n",
    "fc1 = QuarterlyFeatures(columns=columns,\n",
    "                        quarter_counts=[2, 4, 10],\n",
    "                        max_back_quarter=10)\n",
    "\n",
    "fc2 = BaseCompanyFeatures(cat_columns=cat_columns)\n",
    "\n",
    "feature = FeatureMerger(fc1, fc2, on='ticker')\n",
    "target = QuarterlyTarget(col='marketcap', quarter_shift=0)\n",
    "model = GroupedOOFModel(lgbm.sklearn.LGBMRegressor(), fold_cnt=5)\n",
    "                \n",
    "mc_pipeline = pipelines.marketcap.MarketcapPipeline(feature, target, model)\n",
    "mc_pipeline.fit(config, ticker_list)\n",
    "mc_pipeline.export_core('models_data')"
   ]
  },
  {
   "cell_type": "code",
   "execution_count": null,
   "metadata": {},
   "outputs": [],
   "source": [
    "0.38879646304551746"
   ]
  },
  {
   "cell_type": "code",
   "execution_count": null,
   "metadata": {},
   "outputs": [],
   "source": [
    "0.3651129822271524"
   ]
  },
  {
   "cell_type": "code",
   "execution_count": 7,
   "metadata": {},
   "outputs": [
    {
     "data": {
      "text/html": [
       "<div>\n",
       "<style scoped>\n",
       "    .dataframe tbody tr th:only-of-type {\n",
       "        vertical-align: middle;\n",
       "    }\n",
       "\n",
       "    .dataframe tbody tr th {\n",
       "        vertical-align: top;\n",
       "    }\n",
       "\n",
       "    .dataframe thead th {\n",
       "        text-align: right;\n",
       "    }\n",
       "</style>\n",
       "<table border=\"1\" class=\"dataframe\">\n",
       "  <thead>\n",
       "    <tr style=\"text-align: right;\">\n",
       "      <th></th>\n",
       "      <th>column</th>\n",
       "      <th>importance</th>\n",
       "    </tr>\n",
       "  </thead>\n",
       "  <tbody>\n",
       "    <tr>\n",
       "      <th>481</th>\n",
       "      <td>sicindustry</td>\n",
       "      <td>178</td>\n",
       "    </tr>\n",
       "    <tr>\n",
       "      <th>480</th>\n",
       "      <td>sector</td>\n",
       "      <td>50</td>\n",
       "    </tr>\n",
       "    <tr>\n",
       "      <th>361</th>\n",
       "      <td>quarter10_ebitda_median</td>\n",
       "      <td>45</td>\n",
       "    </tr>\n",
       "    <tr>\n",
       "      <th>455</th>\n",
       "      <td>quarter10_divyield_diff_mean</td>\n",
       "      <td>38</td>\n",
       "    </tr>\n",
       "    <tr>\n",
       "      <th>130</th>\n",
       "      <td>quarter2_divyield_mean</td>\n",
       "      <td>34</td>\n",
       "    </tr>\n",
       "    <tr>\n",
       "      <th>401</th>\n",
       "      <td>quarter10_workingcapital_median</td>\n",
       "      <td>34</td>\n",
       "    </tr>\n",
       "    <tr>\n",
       "      <th>404</th>\n",
       "      <td>quarter10_workingcapital_std</td>\n",
       "      <td>31</td>\n",
       "    </tr>\n",
       "    <tr>\n",
       "      <th>331</th>\n",
       "      <td>quarter10_netinc_median</td>\n",
       "      <td>30</td>\n",
       "    </tr>\n",
       "    <tr>\n",
       "      <th>135</th>\n",
       "      <td>quarter2_divyield_diff_mean</td>\n",
       "      <td>28</td>\n",
       "    </tr>\n",
       "    <tr>\n",
       "      <th>411</th>\n",
       "      <td>quarter10_cashneq_median</td>\n",
       "      <td>27</td>\n",
       "    </tr>\n",
       "  </tbody>\n",
       "</table>\n",
       "</div>"
      ],
      "text/plain": [
       "                              column  importance\n",
       "481                      sicindustry         178\n",
       "480                           sector          50\n",
       "361          quarter10_ebitda_median          45\n",
       "455     quarter10_divyield_diff_mean          38\n",
       "130           quarter2_divyield_mean          34\n",
       "401  quarter10_workingcapital_median          34\n",
       "404     quarter10_workingcapital_std          31\n",
       "331          quarter10_netinc_median          30\n",
       "135      quarter2_divyield_diff_mean          28\n",
       "411         quarter10_cashneq_median          27"
      ]
     },
     "execution_count": 7,
     "metadata": {},
     "output_type": "execute_result"
    }
   ],
   "source": [
    "imp_df = pd.DataFrame()\n",
    "imp_df['column'] = mc_pipeline.model.columns\n",
    "imp_df['importance'] = mc_pipeline.model.base_models[0].feature_importances_\n",
    "imp_df = imp_df.sort_values('importance', ascending=False)[:]\n",
    "imp_df[:10]"
   ]
  },
  {
   "cell_type": "code",
   "execution_count": 11,
   "metadata": {},
   "outputs": [],
   "source": [
    "pipeline_path = 'models_data/marketcap_pipeline_16.02.21_15:11'\n",
    "mc_pipeline = pipelines.marketcap.load(pipeline_path)"
   ]
  },
  {
   "cell_type": "code",
   "execution_count": 13,
   "metadata": {},
   "outputs": [
    {
     "name": "stderr",
     "output_type": "stream",
     "text": [
      "3874it [00:30, 128.52it/s]\n"
     ]
    }
   ],
   "source": [
    "mc_df = mc_pipeline.execute(config, ticker_list)"
   ]
  },
  {
   "cell_type": "code",
   "execution_count": 9,
   "metadata": {},
   "outputs": [
    {
     "data": {
      "text/plain": [
       "'weffewf'"
      ]
     },
     "execution_count": 9,
     "metadata": {},
     "output_type": "execute_result"
    }
   ],
   "source": [
    "\"wef\" \\\n",
    "\"fewf\""
   ]
  },
  {
   "cell_type": "code",
   "execution_count": null,
   "metadata": {},
   "outputs": [],
   "source": []
  },
  {
   "cell_type": "code",
   "execution_count": null,
   "metadata": {},
   "outputs": [],
   "source": []
  },
  {
   "cell_type": "code",
   "execution_count": null,
   "metadata": {},
   "outputs": [],
   "source": []
  },
  {
   "cell_type": "code",
   "execution_count": null,
   "metadata": {},
   "outputs": [],
   "source": []
  },
  {
   "cell_type": "code",
   "execution_count": null,
   "metadata": {},
   "outputs": [],
   "source": []
  },
  {
   "cell_type": "code",
   "execution_count": null,
   "metadata": {},
   "outputs": [],
   "source": []
  },
  {
   "cell_type": "code",
   "execution_count": null,
   "metadata": {},
   "outputs": [],
   "source": []
  }
 ],
 "metadata": {
  "kernelspec": {
   "display_name": "Python 3",
   "language": "python",
   "name": "python3"
  },
  "language_info": {
   "codemirror_mode": {
    "name": "ipython",
    "version": 3
   },
   "file_extension": ".py",
   "mimetype": "text/x-python",
   "name": "python",
   "nbconvert_exporter": "python",
   "pygments_lexer": "ipython3",
   "version": "3.6.9"
  }
 },
 "nbformat": 4,
 "nbformat_minor": 4
}
