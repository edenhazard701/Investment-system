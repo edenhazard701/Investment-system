{
 "cells": [
  {
   "cell_type": "code",
   "execution_count": 26,
   "metadata": {},
   "outputs": [
    {
     "name": "stdout",
     "output_type": "stream",
     "text": [
      "The autoreload extension is already loaded. To reload it, use:\n",
      "  %reload_ext autoreload\n"
     ]
    },
    {
     "data": {
      "text/html": [
       "<style>.container { width:100% !important; }</style>"
      ],
      "text/plain": [
       "<IPython.core.display.HTML object>"
      ]
     },
     "metadata": {},
     "output_type": "display_data"
    }
   ],
   "source": [
    "%load_ext autoreload\n",
    "%autoreload 2\n",
    "import warnings\n",
    "warnings.filterwarnings('ignore')\n",
    "from IPython.core.display import display, HTML\n",
    "display(HTML(\"<style>.container { width:100% !important; }</style>\"))\n",
    "\n",
    "import pandas as pd\n",
    "import numpy as np\n",
    "import lightgbm as lgbm\n",
    "import os\n",
    "import matplotlib.pyplot as plt\n",
    "import seaborn as sns\n",
    "import requests\n",
    "import json\n",
    "import time\n",
    "import pickle\n",
    "\n",
    "from tqdm import tqdm\n",
    "\n",
    "from utils import load_json\n",
    "from df_utils import form_last_quarter_df, form_pred_df\n",
    "from features import QuarterlyFeatures, BaseCompanyFeatures, FeatureMerger\n",
    "from targets import QuarterlyTarget\n",
    "from data import load_quarterly_data_cf1, load_cf1_df, translate_currency_cf1\n",
    "from models import GroupedOOFModel\n",
    "import pipelines.marketcap\n",
    "#from pipelines import marketcap\n",
    "sns.set()\n",
    "\n",
    "config = load_json(\"config.json\")\n"
   ]
  },
  {
   "cell_type": "code",
   "execution_count": null,
   "metadata": {},
   "outputs": [],
   "source": []
  },
  {
   "cell_type": "code",
   "execution_count": 28,
   "metadata": {},
   "outputs": [],
   "source": [
    "tickers_df = pd.read_csv('{}/cf1/tickers.csv'.format(config['data_path']))\n",
    "tickers_df = tickers_df[tickers_df['currency']=='USD']\n",
    "tickers_df = tickers_df[tickers_df['scalemarketcap'].apply(lambda x: x in ['4 - Mid', '5 - Large', '6 - Mega'])]\n",
    "ticker_list = tickers_df['ticker'].unique().tolist()"
   ]
  },
  {
   "cell_type": "code",
   "execution_count": 9,
   "metadata": {},
   "outputs": [
    {
     "name": "stderr",
     "output_type": "stream",
     "text": [
      "3874it [00:30, 128.59it/s]\n",
      "2396it [00:03, 685.28it/s]\n"
     ]
    },
    {
     "name": "stdout",
     "output_type": "stream",
     "text": [
      "0.3651129822271524\n"
     ]
    }
   ],
   "source": [
    "columns = ['revenue', 'netinc', 'ncf', 'assets', 'ebitda', 'debt', 'fcf',\n",
    "           'gp', 'workingcapital', 'cashneq', 'rnd', 'sgna', 'ncfx',\n",
    "           'divyield', 'currentratio', 'netinccmn']\n",
    "\n",
    "cat_columns = ['sector', 'sicindustry']\n",
    "\n",
    "fc1 = QuarterlyFeatures(columns=columns,\n",
    "                        quarter_counts=[2, 4, 10],\n",
    "                        max_back_quarter=10)\n",
    "\n",
    "fc2 = BaseCompanyFeatures(cat_columns=cat_columns)\n",
    "\n",
    "feature = FeatureMerger(fc1, fc2, on='ticker')\n",
    "target = QuarterlyTarget(col='marketcap', quarter_shift=0)\n",
    "model = GroupedOOFModel(lgbm.sklearn.LGBMRegressor(), fold_cnt=5)\n",
    "                \n",
    "mc_pipeline = pipelines.marketcap.MarketcapPipeline(feature, target, model)\n",
    "mc_pipeline.fit(config, ticker_list)\n",
    "mc_pipeline.export_core()"
   ]
  },
  {
   "cell_type": "code",
   "execution_count": null,
   "metadata": {},
   "outputs": [],
   "source": [
    "0.3651129822271524"
   ]
  },
  {
   "cell_type": "code",
   "execution_count": 44,
   "metadata": {},
   "outputs": [
    {
     "data": {
      "text/html": [
       "<div>\n",
       "<style scoped>\n",
       "    .dataframe tbody tr th:only-of-type {\n",
       "        vertical-align: middle;\n",
       "    }\n",
       "\n",
       "    .dataframe tbody tr th {\n",
       "        vertical-align: top;\n",
       "    }\n",
       "\n",
       "    .dataframe thead th {\n",
       "        text-align: right;\n",
       "    }\n",
       "</style>\n",
       "<table border=\"1\" class=\"dataframe\">\n",
       "  <thead>\n",
       "    <tr style=\"text-align: right;\">\n",
       "      <th></th>\n",
       "      <th>column</th>\n",
       "      <th>importance</th>\n",
       "    </tr>\n",
       "  </thead>\n",
       "  <tbody>\n",
       "    <tr>\n",
       "      <th>480</th>\n",
       "      <td>sector</td>\n",
       "      <td>47</td>\n",
       "    </tr>\n",
       "    <tr>\n",
       "      <th>329</th>\n",
       "      <td>quarter10_revenue_diff_std</td>\n",
       "      <td>39</td>\n",
       "    </tr>\n",
       "    <tr>\n",
       "      <th>295</th>\n",
       "      <td>quarter4_divyield_diff_mean</td>\n",
       "      <td>38</td>\n",
       "    </tr>\n",
       "    <tr>\n",
       "      <th>130</th>\n",
       "      <td>quarter2_divyield_mean</td>\n",
       "      <td>37</td>\n",
       "    </tr>\n",
       "    <tr>\n",
       "      <th>407</th>\n",
       "      <td>quarter10_workingcapital_diff_max</td>\n",
       "      <td>36</td>\n",
       "    </tr>\n",
       "    <tr>\n",
       "      <th>455</th>\n",
       "      <td>quarter10_divyield_diff_mean</td>\n",
       "      <td>36</td>\n",
       "    </tr>\n",
       "    <tr>\n",
       "      <th>471</th>\n",
       "      <td>quarter10_netinccmn_median</td>\n",
       "      <td>36</td>\n",
       "    </tr>\n",
       "    <tr>\n",
       "      <th>481</th>\n",
       "      <td>sicsector</td>\n",
       "      <td>34</td>\n",
       "    </tr>\n",
       "    <tr>\n",
       "      <th>360</th>\n",
       "      <td>quarter10_ebitda_mean</td>\n",
       "      <td>31</td>\n",
       "    </tr>\n",
       "    <tr>\n",
       "      <th>380</th>\n",
       "      <td>quarter10_fcf_mean</td>\n",
       "      <td>30</td>\n",
       "    </tr>\n",
       "  </tbody>\n",
       "</table>\n",
       "</div>"
      ],
      "text/plain": [
       "                                column  importance\n",
       "480                             sector          47\n",
       "329         quarter10_revenue_diff_std          39\n",
       "295        quarter4_divyield_diff_mean          38\n",
       "130             quarter2_divyield_mean          37\n",
       "407  quarter10_workingcapital_diff_max          36\n",
       "455       quarter10_divyield_diff_mean          36\n",
       "471         quarter10_netinccmn_median          36\n",
       "481                          sicsector          34\n",
       "360              quarter10_ebitda_mean          31\n",
       "380                 quarter10_fcf_mean          30"
      ]
     },
     "execution_count": 44,
     "metadata": {},
     "output_type": "execute_result"
    }
   ],
   "source": [
    "imp_df = pd.DataFrame()\n",
    "imp_df['column'] = mc_pipeline.model.columns\n",
    "imp_df['importance'] = mc_pipeline.model.base_models[0].feature_importances_\n",
    "imp_df = imp_df.sort_values('importance', ascending=False)[:]\n",
    "imp_df[:10]"
   ]
  },
  {
   "cell_type": "code",
   "execution_count": 11,
   "metadata": {},
   "outputs": [],
   "source": [
    "pipeline_path = 'models_data/marketcap_pipeline_16.02.21_15:11'\n",
    "mc_pipeline = pipelines.marketcap.load(pipeline_path)"
   ]
  },
  {
   "cell_type": "code",
   "execution_count": 13,
   "metadata": {},
   "outputs": [
    {
     "name": "stderr",
     "output_type": "stream",
     "text": [
      "3874it [00:30, 128.52it/s]\n"
     ]
    }
   ],
   "source": [
    "mc_df = mc_pipeline.execute(config, ticker_list)"
   ]
  },
  {
   "cell_type": "code",
   "execution_count": null,
   "metadata": {},
   "outputs": [],
   "source": []
  },
  {
   "cell_type": "code",
   "execution_count": null,
   "metadata": {},
   "outputs": [],
   "source": []
  },
  {
   "cell_type": "code",
   "execution_count": null,
   "metadata": {},
   "outputs": [],
   "source": []
  },
  {
   "cell_type": "code",
   "execution_count": null,
   "metadata": {},
   "outputs": [],
   "source": []
  },
  {
   "cell_type": "code",
   "execution_count": null,
   "metadata": {},
   "outputs": [],
   "source": []
  },
  {
   "cell_type": "code",
   "execution_count": null,
   "metadata": {},
   "outputs": [],
   "source": []
  },
  {
   "cell_type": "code",
   "execution_count": null,
   "metadata": {},
   "outputs": [],
   "source": []
  },
  {
   "cell_type": "code",
   "execution_count": null,
   "metadata": {},
   "outputs": [],
   "source": []
  }
 ],
 "metadata": {
  "kernelspec": {
   "display_name": "Python 3",
   "language": "python",
   "name": "python3"
  },
  "language_info": {
   "codemirror_mode": {
    "name": "ipython",
    "version": 3
   },
   "file_extension": ".py",
   "mimetype": "text/x-python",
   "name": "python",
   "nbconvert_exporter": "python",
   "pygments_lexer": "ipython3",
   "version": "3.6.9"
  }
 },
 "nbformat": 4,
 "nbformat_minor": 4
}
