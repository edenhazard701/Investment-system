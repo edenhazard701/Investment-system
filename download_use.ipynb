{
 "cells": [
  {
   "cell_type": "code",
   "execution_count": 89,
   "metadata": {},
   "outputs": [
    {
     "name": "stdout",
     "output_type": "stream",
     "text": [
      "The autoreload extension is already loaded. To reload it, use:\n",
      "  %reload_ext autoreload\n"
     ]
    }
   ],
   "source": [
    "%load_ext autoreload\n",
    "%autoreload 2\n",
    "\n",
    "from download import form_fmpapi_url, form_quandl_url, multi_ticker_download, download_json\n",
    "from utils import load_json\n",
    "import os\n",
    "\n",
    "config = load_json(\"config.json\")\n"
   ]
  },
  {
   "cell_type": "code",
   "execution_count": 48,
   "metadata": {},
   "outputs": [],
   "source": [
    "# url = form_quandl_url('datatables/SHARADAR/TICKERS?table=SF1&qopts.export=true', config)\n",
    "# data, resp = download_json(url, '{}/cf1/tickers.json'.format(config['data_path']))"
   ]
  },
  {
   "cell_type": "code",
   "execution_count": 73,
   "metadata": {},
   "outputs": [],
   "source": [
    "tickers_df = pd.read_csv('{}/cf1/tickers.csv'.format(config['data_path']))\n",
    "ticker_list = tickers_df['ticker'].unique().tolist()"
   ]
  },
  {
   "cell_type": "code",
   "execution_count": null,
   "metadata": {},
   "outputs": [],
   "source": []
  },
  {
   "cell_type": "markdown",
   "metadata": {},
   "source": [
    "# QUANDL CF1"
   ]
  },
  {
   "cell_type": "code",
   "execution_count": 71,
   "metadata": {},
   "outputs": [],
   "source": [
    "save_dirpath = '{}/cf1/core_fundamental'.format(config['data_path'])\n"
   ]
  },
  {
   "cell_type": "code",
   "execution_count": 79,
   "metadata": {},
   "outputs": [
    {
     "name": "stderr",
     "output_type": "stream",
     "text": [
      "100%|██████████| 2963/2963 [00:00<00:00, 2110686.61it/s]\n"
     ]
    }
   ],
   "source": [
    "url = form_quandl_url('datatables/SHARADAR/SF1?ticker={ticker}', config)\n",
    "multi_ticker_download(url, ticker_list, '{}/cf1/core_fundamental'.format(config['data_path']), skip_exists=True)"
   ]
  },
  {
   "cell_type": "code",
   "execution_count": 88,
   "metadata": {},
   "outputs": [
    {
     "name": "stderr",
     "output_type": "stream",
     "text": [
      "100%|██████████| 414/414 [00:00<00:00, 919238.67it/s]\n"
     ]
    }
   ],
   "source": [
    "url = form_quandl_url('datatables/SHARADAR/DAILY?ticker={ticker}', config)\n",
    "multi_ticker_download(url, ticker_list, '{}/cf1/daily'.format(config['data_path']), skip_exists=True)"
   ]
  },
  {
   "cell_type": "code",
   "execution_count": null,
   "metadata": {},
   "outputs": [],
   "source": []
  },
  {
   "cell_type": "code",
   "execution_count": null,
   "metadata": {},
   "outputs": [],
   "source": []
  },
  {
   "cell_type": "code",
   "execution_count": null,
   "metadata": {},
   "outputs": [],
   "source": []
  },
  {
   "cell_type": "markdown",
   "metadata": {},
   "source": [
    "# FMPAPI"
   ]
  },
  {
   "cell_type": "code",
   "execution_count": 9,
   "metadata": {},
   "outputs": [
    {
     "name": "stderr",
     "output_type": "stream",
     "text": [
      "100%|██████████| 8899/8899 [00:00<00:00, 1669579.14it/s]\n"
     ]
    }
   ],
   "source": [
    "url = form_fmpapi_url('key-metrics/{ticker}?period=quarter', config)\n",
    "multi_ticker_download(url, ticker_list[:], '{}/key_metrics'.format(config['data_path']))"
   ]
  },
  {
   "cell_type": "code",
   "execution_count": 20,
   "metadata": {},
   "outputs": [
    {
     "name": "stderr",
     "output_type": "stream",
     "text": [
      "100%|██████████| 1/1 [00:00<00:00, 6502.80it/s]\n"
     ]
    }
   ],
   "source": [
    "url = form_fmpapi_url('profile/{ticker}?', config)\n",
    "res = multi_ticker_download(url, ['SASR'], '{}/profile'.format(config['data_path']))"
   ]
  },
  {
   "cell_type": "code",
   "execution_count": 10,
   "metadata": {},
   "outputs": [
    {
     "name": "stderr",
     "output_type": "stream",
     "text": [
      "100%|██████████| 8899/8899 [00:00<00:00, 2795469.69it/s]\n"
     ]
    }
   ],
   "source": [
    "url = form_fmpapi_url('key-metrics-ttm/{ticker}?period=quarter', config)\n",
    "multi_ticker_download(url, ticker_list[:], '{}/key_metrics_ttm'.format(config['data_path']))"
   ]
  },
  {
   "cell_type": "code",
   "execution_count": 12,
   "metadata": {},
   "outputs": [
    {
     "name": "stderr",
     "output_type": "stream",
     "text": [
      "100%|██████████| 8899/8899 [00:00<00:00, 2775101.21it/s]\n"
     ]
    }
   ],
   "source": [
    "url = form_fmpapi_url('income-statement/{ticker}?period=quarter', config)\n",
    "multi_ticker_download(url, ticker_list[:], '{}/income_statement'.format(config['data_path']))"
   ]
  },
  {
   "cell_type": "code",
   "execution_count": 6,
   "metadata": {},
   "outputs": [
    {
     "name": "stderr",
     "output_type": "stream",
     "text": [
      "100%|██████████| 8899/8899 [00:00<00:00, 2768309.08it/s]\n"
     ]
    }
   ],
   "source": [
    "url = form_fmpapi_url('cash-flow-statement/{ticker}?period=quarter', config)\n",
    "multi_ticker_download(url, ticker_list[:], '{}/cash_flow_statement'.format(config['data_path']))"
   ]
  },
  {
   "cell_type": "code",
   "execution_count": 6,
   "metadata": {},
   "outputs": [
    {
     "name": "stderr",
     "output_type": "stream",
     "text": [
      "100%|██████████| 8899/8899 [00:00<00:00, 2478756.23it/s]\n"
     ]
    }
   ],
   "source": [
    "url = form_fmpapi_url('enterprise-values/{ticker}?period=quarter', config)\n",
    "multi_ticker_download(url, ticker_list[:], '{}/enterprise_values'.format(config['data_path']))"
   ]
  },
  {
   "cell_type": "code",
   "execution_count": 13,
   "metadata": {},
   "outputs": [
    {
     "name": "stderr",
     "output_type": "stream",
     "text": [
      "100%|██████████| 133/133 [00:00<00:00, 362706.39it/s]\n"
     ]
    }
   ],
   "source": [
    "url = form_fmpapi_url('historical-price-full/{ticker}?serietype=line&period=quarter', config)\n",
    "multi_ticker_download(url, last, '{}/historical_price_full'.format(config['data_path']))"
   ]
  },
  {
   "cell_type": "code",
   "execution_count": 18,
   "metadata": {},
   "outputs": [
    {
     "name": "stderr",
     "output_type": "stream",
     "text": [
      "100%|██████████| 71/71 [00:00<00:00, 166645.54it/s]\n"
     ]
    }
   ],
   "source": [
    "url = form_fmpapi_url('historical-price-full/stock_split/{ticker}?', config)\n",
    "multi_ticker_download(url, last, '{}/stock_split'.format(config['data_path']))"
   ]
  },
  {
   "cell_type": "code",
   "execution_count": null,
   "metadata": {},
   "outputs": [],
   "source": []
  },
  {
   "cell_type": "code",
   "execution_count": null,
   "metadata": {},
   "outputs": [],
   "source": []
  },
  {
   "cell_type": "code",
   "execution_count": null,
   "metadata": {},
   "outputs": [],
   "source": []
  },
  {
   "cell_type": "code",
   "execution_count": null,
   "metadata": {},
   "outputs": [],
   "source": [
    "url = form_fmpapi_url('historical-price-full/stock_split/{ticker}?', config)\n"
   ]
  },
  {
   "cell_type": "code",
   "execution_count": null,
   "metadata": {},
   "outputs": [],
   "source": []
  },
  {
   "cell_type": "code",
   "execution_count": null,
   "metadata": {},
   "outputs": [],
   "source": []
  },
  {
   "cell_type": "code",
   "execution_count": null,
   "metadata": {},
   "outputs": [],
   "source": []
  },
  {
   "cell_type": "code",
   "execution_count": null,
   "metadata": {},
   "outputs": [],
   "source": []
  },
  {
   "cell_type": "code",
   "execution_count": null,
   "metadata": {},
   "outputs": [],
   "source": []
  },
  {
   "cell_type": "code",
   "execution_count": null,
   "metadata": {},
   "outputs": [],
   "source": []
  },
  {
   "cell_type": "code",
   "execution_count": null,
   "metadata": {},
   "outputs": [],
   "source": []
  },
  {
   "cell_type": "code",
   "execution_count": null,
   "metadata": {},
   "outputs": [],
   "source": []
  },
  {
   "cell_type": "code",
   "execution_count": null,
   "metadata": {},
   "outputs": [],
   "source": []
  },
  {
   "cell_type": "code",
   "execution_count": null,
   "metadata": {},
   "outputs": [],
   "source": []
  },
  {
   "cell_type": "code",
   "execution_count": null,
   "metadata": {},
   "outputs": [],
   "source": []
  },
  {
   "cell_type": "code",
   "execution_count": null,
   "metadata": {},
   "outputs": [],
   "source": []
  }
 ],
 "metadata": {
  "kernelspec": {
   "display_name": "Python 3",
   "language": "python",
   "name": "python3"
  },
  "language_info": {
   "codemirror_mode": {
    "name": "ipython",
    "version": 3
   },
   "file_extension": ".py",
   "mimetype": "text/x-python",
   "name": "python",
   "nbconvert_exporter": "python",
   "pygments_lexer": "ipython3",
   "version": "3.6.9"
  }
 },
 "nbformat": 4,
 "nbformat_minor": 4
}
